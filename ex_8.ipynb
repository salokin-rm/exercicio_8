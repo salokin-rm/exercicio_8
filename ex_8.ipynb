{
 "cells": [
  {
   "cell_type": "code",
   "execution_count": 2,
   "id": "d961f830",
   "metadata": {},
   "outputs": [
    {
     "name": "stdout",
     "output_type": "stream",
     "text": [
      "Este programa resolve uma equação linear da forma a*x = b\n",
      "\n",
      "Digite o termo \"a\" da equação:-1\n",
      "\n",
      "Digite o termo \"b\" da equação:2.5\n",
      "\n",
      "O valor de x é igual a: -2.5\n"
     ]
    }
   ],
   "source": [
    "\"\"\"\n",
    "Nome: Equação Linear\n",
    "Descrição: Este programa resolve uma equação linear da forma a*x = b\n",
    "Autor: Nikolas\n",
    "Data: 26/06/2023\n",
    "Versão: 0.0.1\n",
    "\"\"\"\n",
    "\n",
    "print(\"Este programa resolve uma equação linear da forma a*x = b\")\n",
    "\n",
    "### Atribuição de variáveis e entrada de dados\n",
    "\n",
    "a = float(input(f\"\\nDigite o termo \\\"a\\\" da equação:\"))\n",
    "b = float(input(f\"\\nDigite o termo \\\"b\\\" da equação:\"))\n",
    "\n",
    "### Processamento de dados\n",
    "\n",
    "x = b/a\n",
    "\n",
    "### Saída de dados\n",
    "\n",
    "print(\"\\nO valor de x é igual a:\",x,)\n"
   ]
  },
  {
   "cell_type": "code",
   "execution_count": null,
   "id": "acc4de27",
   "metadata": {},
   "outputs": [],
   "source": []
  }
 ],
 "metadata": {
  "kernelspec": {
   "display_name": "Python 3 (ipykernel)",
   "language": "python",
   "name": "python3"
  },
  "language_info": {
   "codemirror_mode": {
    "name": "ipython",
    "version": 3
   },
   "file_extension": ".py",
   "mimetype": "text/x-python",
   "name": "python",
   "nbconvert_exporter": "python",
   "pygments_lexer": "ipython3",
   "version": "3.10.9"
  }
 },
 "nbformat": 4,
 "nbformat_minor": 5
}
